{
 "cells": [
  {
   "cell_type": "code",
   "execution_count": 90,
   "id": "c6294e3a",
   "metadata": {},
   "outputs": [],
   "source": [
    "import os\n",
    "import pandas as pd\n",
    "import warnings\n",
    "#Supress warnings that are not important\n",
    "warnings.filterwarnings(\"ignore\")\n",
    "\n",
    "#Define where your data file is and where you want to save the resulting files with names\n",
    "file_path = r'Y:\\Common\\SLICE ELECTROPHYSIOLOGY\\WHOLE CELL SETUP\\FIDS\\SK2-PAM_processed\\for Phyton\\m47n2.xlsx'\n",
    "save_path_10_min_bins = r'Y:\\Common\\SLICE ELECTROPHYSIOLOGY\\WHOLE CELL SETUP\\FIDS\\SK2-PAM_processed\\for Phyton\\Processed data\\10_min_bins.csv'\n",
    "save_path_1_min_bins = r'Y:\\Common\\SLICE ELECTROPHYSIOLOGY\\WHOLE CELL SETUP\\FIDS\\SK2-PAM_processed\\for Phyton\\Processed data\\1_min_bins.csv'"
   ]
  },
  {
   "cell_type": "code",
   "execution_count": 91,
   "id": "93dbc403",
   "metadata": {},
   "outputs": [
    {
     "data": {
      "text/plain": [
       "count    6.348600e+04\n",
       "mean     1.217510e+06\n",
       "std      6.709119e+05\n",
       "min      1.640000e+01\n",
       "25%      6.562256e+05\n",
       "50%      1.232783e+06\n",
       "75%      1.781232e+06\n",
       "max      2.399997e+06\n",
       "Name: Time of Peak (ms), dtype: float64"
      ]
     },
     "execution_count": 91,
     "metadata": {},
     "output_type": "execute_result"
    }
   ],
   "source": [
    "#Load the data\n",
    "df = pd.read_excel(file_path)\n",
    "df['Time of Peak (ms)'].describe()"
   ]
  },
  {
   "cell_type": "code",
   "execution_count": 92,
   "id": "e856ec13",
   "metadata": {},
   "outputs": [
    {
     "data": {
      "text/plain": [
       "count    6.348600e+04\n",
       "mean     1.217510e+06\n",
       "std      6.709119e+05\n",
       "min      1.640000e+01\n",
       "25%      6.562256e+05\n",
       "50%      1.232783e+06\n",
       "75%      1.781232e+06\n",
       "max      2.399997e+06\n",
       "Name: Time of Peak (ms), dtype: float64"
      ]
     },
     "execution_count": 92,
     "metadata": {},
     "output_type": "execute_result"
    }
   ],
   "source": [
    "#Explore the data\n",
    "df['Time of Peak (ms)'].describe()"
   ]
  },
  {
   "cell_type": "code",
   "execution_count": 93,
   "id": "45f8ff08",
   "metadata": {},
   "outputs": [
    {
     "name": "stdout",
     "output_type": "stream",
     "text": [
      "   n_of_events  mean_freq     CV_freq\n",
      "0      14244.0  24.193420   24.250173\n",
      "1      16589.0  28.030484   25.172727\n",
      "2      17302.0  29.235708   52.917580\n",
      "3      15351.0  27.878438  160.704958\n"
     ]
    }
   ],
   "source": [
    "# Create 'ten_min_bin' DataFrame\n",
    "ten_min_bin = pd.DataFrame()\n",
    "\n",
    "# Calculate the number of events, mean_freq and CV_freq for each 600,000 bin\n",
    "\n",
    "#find max number for rows to determine the range\n",
    "max_time = int(df['Time of Peak (ms)'].max())\n",
    "#Add the max needed number to the range to ensure we don't cut the bin and get an error\n",
    "bins = range(0, max_time + 600000, 600000)\n",
    "#Setting the conditions for the for loop\n",
    "for bin_start, bin_end in zip(bins[:-1], bins[1:]):\n",
    "    #defining the mask, which are the boundaries for the bins to be looped over and updated for each calcualtd row\n",
    "    mask = (df['Time of Peak (ms)'] >= bin_start) & (df['Time of Peak (ms)'] < bin_end)\n",
    "    #Find the sum of rows in the mask\n",
    "    n_of_events = mask.sum()\n",
    "    #Adding mean frequency\n",
    "    mean_freq = df[mask]['Inst. Freq. (Hz)'].mean()\n",
    "    #Applying the CV formula within the bounderies for the mask\n",
    "    cv_freq = (df[mask]['Inst. Freq. (Hz)'].std() / df[mask]['Inst. Freq. (Hz)'].mean()) * 100\n",
    "    #Making everything into a dataframe\n",
    "    ten_min_bin = ten_min_bin.append({'n_of_events': n_of_events, 'mean_freq': mean_freq, 'CV_freq': cv_freq}, ignore_index=True)\n",
    "\n",
    "print(ten_min_bin)"
   ]
  },
  {
   "cell_type": "code",
   "execution_count": 94,
   "id": "1eebdc11",
   "metadata": {},
   "outputs": [
    {
     "name": "stdout",
     "output_type": "stream",
     "text": [
      "    n_of_events  mean_freq    CV_freq\n",
      "0        1330.0  22.572113   1.321717\n",
      "1        1339.0  22.675850   1.264479\n",
      "2        1360.0  22.997417   1.207073\n",
      "3        1394.0  23.521986   1.110579\n",
      "4        1403.0  23.673109   1.128430\n",
      "5        1431.0  24.124305   1.079721\n",
      "6        1444.0  25.127407   6.370480\n",
      "7        1443.0  24.323842   1.087858\n",
      "8        1510.0  25.457817   1.077492\n",
      "9        1590.0  26.792204   1.048762\n",
      "10       1746.0  29.418101   1.083470\n",
      "11       1765.0  29.698311   0.991267\n",
      "12       1681.0  29.394819   6.973504\n",
      "13       1644.0  27.636035   0.943292\n",
      "14       1636.0  27.486560   0.895239\n",
      "15       1646.0  27.652821   0.894814\n",
      "16       1635.0  27.447580   0.878451\n",
      "17       1639.0  27.538333   0.900420\n",
      "18       1602.0  26.934931   0.934306\n",
      "19       1595.0  26.785832   0.855879\n",
      "20       1687.0  28.295670   0.835902\n",
      "21       1747.0  29.293347   0.783491\n",
      "22       1833.0  30.872109   1.830358\n",
      "23       1927.0  32.331205   0.818026\n",
      "24       1734.0  29.104504   0.851553\n",
      "25       1686.0  28.270275   0.798097\n",
      "26       1705.0  29.909105  16.122934\n",
      "27       1691.0  28.418658   1.077416\n",
      "28       1668.0  27.967049   0.785691\n",
      "29       1624.0  27.219352   0.768632\n",
      "30       1646.0  27.612202   0.787767\n",
      "31       1638.0  30.660733  12.945184\n",
      "32       1535.0  25.804890   0.885650\n",
      "33       1496.0  25.089195   0.813385\n",
      "34       1522.0  25.531432   0.801950\n",
      "35       1518.0  25.426295   0.708429\n",
      "36       1453.0  26.149968   9.906111\n",
      "37       1477.0  29.341986  16.947758\n",
      "38       1533.0  28.735957  12.284771\n",
      "39       1533.0  34.118592  34.760499\n"
     ]
    }
   ],
   "source": [
    "# Create 'one_min_bins' DataFrame\n",
    "one_min_bins = pd.DataFrame()\n",
    "\n",
    "# Repeating the process from above\n",
    "bins = range(0, max_time + 60000, 60000)\n",
    "for bin_start, bin_end in zip(bins[:-1], bins[1:]):\n",
    "    mask = (df['Time of Peak (ms)'] >= bin_start) & (df['Time of Peak (ms)'] < bin_end)\n",
    "    n_of_events = mask.sum()\n",
    "    mean_freq = df[mask]['Inst. Freq. (Hz)'].mean()\n",
    "    cv_freq = (df[mask]['Inst. Freq. (Hz)'].std() / df[mask]['Inst. Freq. (Hz)'].mean()) * 10\n",
    "    one_min_bins = one_min_bins.append({'n_of_events': n_of_events, 'mean_freq': mean_freq, 'CV_freq': cv_freq}, ignore_index=True)\n",
    "\n",
    "print(one_min_bins)"
   ]
  },
  {
   "cell_type": "markdown",
   "id": "259d8f76",
   "metadata": {},
   "source": [
    "#### Save the dataframes"
   ]
  },
  {
   "cell_type": "code",
   "execution_count": 95,
   "id": "11888e03",
   "metadata": {},
   "outputs": [
    {
     "name": "stdout",
     "output_type": "stream",
     "text": [
      "ten_min_bin has been saved here:Y:\\Common\\SLICE ELECTROPHYSIOLOGY\\WHOLE CELL SETUP\\FIDS\\SK2-PAM_processed\\for Phyton\\Processed data\\10_min_bins.csv\n"
     ]
    }
   ],
   "source": [
    "#save the 10 min bin dataframe as a .csv\n",
    "save_statement = 'ten_min_bin has been saved here:{}'\n",
    "\n",
    "if not isinstance(ten_min_bin, type(None)):\n",
    "    ten_min_bin.to_csv(save_path_10_min_bins)\n",
    "    print(save_statement.format(save_path_10_min_bins))\n",
    "else:\n",
    "    print('ten_min_bin does not exist. Please create the dataframe to save it')"
   ]
  },
  {
   "cell_type": "code",
   "execution_count": 96,
   "id": "bfb9c4ea",
   "metadata": {},
   "outputs": [
    {
     "name": "stdout",
     "output_type": "stream",
     "text": [
      "one_min_bin has been saved here:Y:\\Common\\SLICE ELECTROPHYSIOLOGY\\WHOLE CELL SETUP\\FIDS\\SK2-PAM_processed\\for Phyton\\Processed data\\1_min_bins.csv\n"
     ]
    }
   ],
   "source": [
    "#save the 10 min bin dataframe as a .csv\n",
    "save_statement = 'one_min_bin has been saved here:{}'\n",
    "\n",
    "if not isinstance(one_min_bins, type(None)):\n",
    "    one_min_bins.to_csv(save_path_1_min_bins)\n",
    "    print(save_statement.format(save_path_1_min_bins))\n",
    "else:\n",
    "    print('one_min_bin does not exist. Please create the dataframe to save it')"
   ]
  },
  {
   "cell_type": "markdown",
   "id": "883aa3e0",
   "metadata": {},
   "source": [
    "##### Playground to confirm calculations"
   ]
  },
  {
   "cell_type": "code",
   "execution_count": 97,
   "id": "6592d8b9",
   "metadata": {},
   "outputs": [
    {
     "data": {
      "text/plain": [
       "16589"
      ]
     },
     "execution_count": 97,
     "metadata": {},
     "output_type": "execute_result"
    }
   ],
   "source": [
    "#Ranges can be altered to ensure the right formatting if you want to check the numbers!\n",
    "#The 2 number reflect the bins - below is the number for bin 2 of the 10 min dataframe\n",
    "filtered_df = df[(df['Time of Peak (ms)'] > 600000) & (df['Time of Peak (ms)'] < 1200000)]\n",
    "\n",
    "#Please move the number you want to look at to the bottom, as only the last one will print\n",
    "(filtered_df['Inst. Freq. (Hz)'].std() / filtered_df['Inst. Freq. (Hz)'].mean())* 100\n",
    "filtered_df['Inst. Freq. (Hz)'].mean()\n",
    "filtered_df.shape[0] "
   ]
  },
  {
   "cell_type": "code",
   "execution_count": 98,
   "id": "a6523613",
   "metadata": {},
   "outputs": [
    {
     "data": {
      "text/plain": [
       "1330"
      ]
     },
     "execution_count": 98,
     "metadata": {},
     "output_type": "execute_result"
    }
   ],
   "source": [
    "#Use this format if you want to check the 1st or last bin\n",
    "filtered_df = df[(df['Time of Peak (ms)'] < 60000)]\n",
    "filtered_df.shape[0]"
   ]
  },
  {
   "cell_type": "code",
   "execution_count": null,
   "id": "32cf41a4",
   "metadata": {},
   "outputs": [],
   "source": []
  },
  {
   "cell_type": "code",
   "execution_count": null,
   "id": "58563621",
   "metadata": {},
   "outputs": [],
   "source": []
  },
  {
   "cell_type": "code",
   "execution_count": null,
   "id": "e239bd06",
   "metadata": {},
   "outputs": [],
   "source": []
  }
 ],
 "metadata": {
  "kernelspec": {
   "display_name": "Python 3 (ipykernel)",
   "language": "python",
   "name": "python3"
  },
  "language_info": {
   "codemirror_mode": {
    "name": "ipython",
    "version": 3
   },
   "file_extension": ".py",
   "mimetype": "text/x-python",
   "name": "python",
   "nbconvert_exporter": "python",
   "pygments_lexer": "ipython3",
   "version": "3.8.16"
  }
 },
 "nbformat": 4,
 "nbformat_minor": 5
}
