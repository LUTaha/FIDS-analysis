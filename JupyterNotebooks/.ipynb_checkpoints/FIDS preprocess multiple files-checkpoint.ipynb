{
 "cells": [
  {
   "cell_type": "code",
   "execution_count": 1,
   "id": "5ac6a1f4",
   "metadata": {},
   "outputs": [
    {
     "name": "stdout",
     "output_type": "stream",
     "text": [
      "['Y:\\\\Common\\\\SLICE ELECTROPHYSIOLOGY\\\\WHOLE CELL SETUP\\\\FIDS\\\\SK2-PAM_processed\\\\for Phyton\\\\Test folder\\\\m74n1.xlsx', 'Y:\\\\Common\\\\SLICE ELECTROPHYSIOLOGY\\\\WHOLE CELL SETUP\\\\FIDS\\\\SK2-PAM_processed\\\\for Phyton\\\\Test folder\\\\m74n2.xlsx', 'Y:\\\\Common\\\\SLICE ELECTROPHYSIOLOGY\\\\WHOLE CELL SETUP\\\\FIDS\\\\SK2-PAM_processed\\\\for Phyton\\\\Test folder\\\\m74n3.xlsx', 'Y:\\\\Common\\\\SLICE ELECTROPHYSIOLOGY\\\\WHOLE CELL SETUP\\\\FIDS\\\\SK2-PAM_processed\\\\for Phyton\\\\Test folder\\\\~$m74n1.xlsx']\n"
     ]
    }
   ],
   "source": [
    "import os\n",
    "import pandas as pd\n",
    "import glob\n",
    "import warnings\n",
    "\n",
    "# Suppress warnings that are not important\n",
    "warnings.filterwarnings(\"ignore\")\n",
    "\n",
    "# Define the folder where your data files are located\n",
    "folder_path = r'Y:\\Common\\SLICE ELECTROPHYSIOLOGY\\WHOLE CELL SETUP\\FIDS\\SK2-PAM_processed\\for Phyton\\Test folder'\n",
    "\n",
    "# Create 'csv_files' directory for where we want to save our files if it doesn't exist\n",
    "csv_files_dir = os.path.join(folder_path, 'csv_files')\n",
    "if not os.path.exists(csv_files_dir):\n",
    "    os.mkdir(csv_files_dir)\n",
    "\n",
    "# Get a list of all .xlsx files in the folder\n",
    "xlsx_files = glob.glob(os.path.join(folder_path, '*.xlsx'))\n",
    "\n",
    "#Print the files for analysis\n",
    "print(xlsx_files)"
   ]
  },
  {
   "cell_type": "code",
   "execution_count": 2,
   "id": "d92d8bdb",
   "metadata": {},
   "outputs": [
    {
     "name": "stdout",
     "output_type": "stream",
     "text": [
      "Skipping Y:\\Common\\SLICE ELECTROPHYSIOLOGY\\WHOLE CELL SETUP\\FIDS\\SK2-PAM_processed\\for Phyton\\Test folder\\m74n1.xlsx as it doesn't contain 'Inst. Freq. (Hz)' column.\n",
      "Skipping Y:\\Common\\SLICE ELECTROPHYSIOLOGY\\WHOLE CELL SETUP\\FIDS\\SK2-PAM_processed\\for Phyton\\Test folder\\m74n2.xlsx as it doesn't contain 'Inst. Freq. (Hz)' column.\n",
      "Skipping Y:\\Common\\SLICE ELECTROPHYSIOLOGY\\WHOLE CELL SETUP\\FIDS\\SK2-PAM_processed\\for Phyton\\Test folder\\m74n3.xlsx as it doesn't contain 'Inst. Freq. (Hz)' column.\n"
     ]
    },
    {
     "ename": "PermissionError",
     "evalue": "[Errno 13] Permission denied: 'Y:\\\\Common\\\\SLICE ELECTROPHYSIOLOGY\\\\WHOLE CELL SETUP\\\\FIDS\\\\SK2-PAM_processed\\\\for Phyton\\\\Test folder\\\\~$m74n1.xlsx'",
     "output_type": "error",
     "traceback": [
      "\u001b[1;31m---------------------------------------------------------------------------\u001b[0m",
      "\u001b[1;31mPermissionError\u001b[0m                           Traceback (most recent call last)",
      "Cell \u001b[1;32mIn[2], line 4\u001b[0m\n\u001b[0;32m      1\u001b[0m \u001b[38;5;66;03m# Loop over each .xlsx file in the folder\u001b[39;00m\n\u001b[0;32m      2\u001b[0m \u001b[38;5;28;01mfor\u001b[39;00m file_path \u001b[38;5;129;01min\u001b[39;00m xlsx_files:\n\u001b[0;32m      3\u001b[0m     \u001b[38;5;66;03m# Load the data\u001b[39;00m\n\u001b[1;32m----> 4\u001b[0m     df \u001b[38;5;241m=\u001b[39m pd\u001b[38;5;241m.\u001b[39mread_excel(file_path)\n\u001b[0;32m      6\u001b[0m     \u001b[38;5;66;03m# Check if the 'Inst. Freq. (Hz)' column exists in the DataFrame\u001b[39;00m\n\u001b[0;32m      7\u001b[0m     \u001b[38;5;28;01mif\u001b[39;00m \u001b[38;5;124m'\u001b[39m\u001b[38;5;124mInst. Freq. (Hz)\u001b[39m\u001b[38;5;124m'\u001b[39m \u001b[38;5;129;01mnot\u001b[39;00m \u001b[38;5;129;01min\u001b[39;00m df\u001b[38;5;241m.\u001b[39mcolumns:\n",
      "File \u001b[1;32m~\\AppData\\Local\\anaconda3\\Lib\\site-packages\\pandas\\io\\excel\\_base.py:478\u001b[0m, in \u001b[0;36mread_excel\u001b[1;34m(io, sheet_name, header, names, index_col, usecols, dtype, engine, converters, true_values, false_values, skiprows, nrows, na_values, keep_default_na, na_filter, verbose, parse_dates, date_parser, date_format, thousands, decimal, comment, skipfooter, storage_options, dtype_backend)\u001b[0m\n\u001b[0;32m    476\u001b[0m \u001b[38;5;28;01mif\u001b[39;00m \u001b[38;5;129;01mnot\u001b[39;00m \u001b[38;5;28misinstance\u001b[39m(io, ExcelFile):\n\u001b[0;32m    477\u001b[0m     should_close \u001b[38;5;241m=\u001b[39m \u001b[38;5;28;01mTrue\u001b[39;00m\n\u001b[1;32m--> 478\u001b[0m     io \u001b[38;5;241m=\u001b[39m ExcelFile(io, storage_options\u001b[38;5;241m=\u001b[39mstorage_options, engine\u001b[38;5;241m=\u001b[39mengine)\n\u001b[0;32m    479\u001b[0m \u001b[38;5;28;01melif\u001b[39;00m engine \u001b[38;5;129;01mand\u001b[39;00m engine \u001b[38;5;241m!=\u001b[39m io\u001b[38;5;241m.\u001b[39mengine:\n\u001b[0;32m    480\u001b[0m     \u001b[38;5;28;01mraise\u001b[39;00m \u001b[38;5;167;01mValueError\u001b[39;00m(\n\u001b[0;32m    481\u001b[0m         \u001b[38;5;124m\"\u001b[39m\u001b[38;5;124mEngine should not be specified when passing \u001b[39m\u001b[38;5;124m\"\u001b[39m\n\u001b[0;32m    482\u001b[0m         \u001b[38;5;124m\"\u001b[39m\u001b[38;5;124man ExcelFile - ExcelFile already has the engine set\u001b[39m\u001b[38;5;124m\"\u001b[39m\n\u001b[0;32m    483\u001b[0m     )\n",
      "File \u001b[1;32m~\\AppData\\Local\\anaconda3\\Lib\\site-packages\\pandas\\io\\excel\\_base.py:1496\u001b[0m, in \u001b[0;36mExcelFile.__init__\u001b[1;34m(self, path_or_buffer, engine, storage_options)\u001b[0m\n\u001b[0;32m   1494\u001b[0m     ext \u001b[38;5;241m=\u001b[39m \u001b[38;5;124m\"\u001b[39m\u001b[38;5;124mxls\u001b[39m\u001b[38;5;124m\"\u001b[39m\n\u001b[0;32m   1495\u001b[0m \u001b[38;5;28;01melse\u001b[39;00m:\n\u001b[1;32m-> 1496\u001b[0m     ext \u001b[38;5;241m=\u001b[39m inspect_excel_format(\n\u001b[0;32m   1497\u001b[0m         content_or_path\u001b[38;5;241m=\u001b[39mpath_or_buffer, storage_options\u001b[38;5;241m=\u001b[39mstorage_options\n\u001b[0;32m   1498\u001b[0m     )\n\u001b[0;32m   1499\u001b[0m     \u001b[38;5;28;01mif\u001b[39;00m ext \u001b[38;5;129;01mis\u001b[39;00m \u001b[38;5;28;01mNone\u001b[39;00m:\n\u001b[0;32m   1500\u001b[0m         \u001b[38;5;28;01mraise\u001b[39;00m \u001b[38;5;167;01mValueError\u001b[39;00m(\n\u001b[0;32m   1501\u001b[0m             \u001b[38;5;124m\"\u001b[39m\u001b[38;5;124mExcel file format cannot be determined, you must specify \u001b[39m\u001b[38;5;124m\"\u001b[39m\n\u001b[0;32m   1502\u001b[0m             \u001b[38;5;124m\"\u001b[39m\u001b[38;5;124man engine manually.\u001b[39m\u001b[38;5;124m\"\u001b[39m\n\u001b[0;32m   1503\u001b[0m         )\n",
      "File \u001b[1;32m~\\AppData\\Local\\anaconda3\\Lib\\site-packages\\pandas\\io\\excel\\_base.py:1371\u001b[0m, in \u001b[0;36minspect_excel_format\u001b[1;34m(content_or_path, storage_options)\u001b[0m\n\u001b[0;32m   1368\u001b[0m \u001b[38;5;28;01mif\u001b[39;00m \u001b[38;5;28misinstance\u001b[39m(content_or_path, \u001b[38;5;28mbytes\u001b[39m):\n\u001b[0;32m   1369\u001b[0m     content_or_path \u001b[38;5;241m=\u001b[39m BytesIO(content_or_path)\n\u001b[1;32m-> 1371\u001b[0m \u001b[38;5;28;01mwith\u001b[39;00m get_handle(\n\u001b[0;32m   1372\u001b[0m     content_or_path, \u001b[38;5;124m\"\u001b[39m\u001b[38;5;124mrb\u001b[39m\u001b[38;5;124m\"\u001b[39m, storage_options\u001b[38;5;241m=\u001b[39mstorage_options, is_text\u001b[38;5;241m=\u001b[39m\u001b[38;5;28;01mFalse\u001b[39;00m\n\u001b[0;32m   1373\u001b[0m ) \u001b[38;5;28;01mas\u001b[39;00m handle:\n\u001b[0;32m   1374\u001b[0m     stream \u001b[38;5;241m=\u001b[39m handle\u001b[38;5;241m.\u001b[39mhandle\n\u001b[0;32m   1375\u001b[0m     stream\u001b[38;5;241m.\u001b[39mseek(\u001b[38;5;241m0\u001b[39m)\n",
      "File \u001b[1;32m~\\AppData\\Local\\anaconda3\\Lib\\site-packages\\pandas\\io\\common.py:868\u001b[0m, in \u001b[0;36mget_handle\u001b[1;34m(path_or_buf, mode, encoding, compression, memory_map, is_text, errors, storage_options)\u001b[0m\n\u001b[0;32m    859\u001b[0m         handle \u001b[38;5;241m=\u001b[39m \u001b[38;5;28mopen\u001b[39m(\n\u001b[0;32m    860\u001b[0m             handle,\n\u001b[0;32m    861\u001b[0m             ioargs\u001b[38;5;241m.\u001b[39mmode,\n\u001b[1;32m   (...)\u001b[0m\n\u001b[0;32m    864\u001b[0m             newline\u001b[38;5;241m=\u001b[39m\u001b[38;5;124m\"\u001b[39m\u001b[38;5;124m\"\u001b[39m,\n\u001b[0;32m    865\u001b[0m         )\n\u001b[0;32m    866\u001b[0m     \u001b[38;5;28;01melse\u001b[39;00m:\n\u001b[0;32m    867\u001b[0m         \u001b[38;5;66;03m# Binary mode\u001b[39;00m\n\u001b[1;32m--> 868\u001b[0m         handle \u001b[38;5;241m=\u001b[39m \u001b[38;5;28mopen\u001b[39m(handle, ioargs\u001b[38;5;241m.\u001b[39mmode)\n\u001b[0;32m    869\u001b[0m     handles\u001b[38;5;241m.\u001b[39mappend(handle)\n\u001b[0;32m    871\u001b[0m \u001b[38;5;66;03m# Convert BytesIO or file objects passed with an encoding\u001b[39;00m\n",
      "\u001b[1;31mPermissionError\u001b[0m: [Errno 13] Permission denied: 'Y:\\\\Common\\\\SLICE ELECTROPHYSIOLOGY\\\\WHOLE CELL SETUP\\\\FIDS\\\\SK2-PAM_processed\\\\for Phyton\\\\Test folder\\\\~$m74n1.xlsx'"
     ]
    }
   ],
   "source": [
    "# Loop over each .xlsx file in the folder\n",
    "for file_path in xlsx_files:\n",
    "    # Load the data\n",
    "    df = pd.read_excel(file_path)\n",
    "    \n",
    "    # Check if the 'Inst. Freq. (Hz)' column exists in the DataFrame\n",
    "    if 'Inst. Freq. (Hz)' not in df.columns:\n",
    "        print(f\"Skipping {file_path} as it doesn't contain 'Inst. Freq. (Hz)' column.\")\n",
    "        continue  # Skip this file and move to the next one\n",
    "        \n",
    "    # Create 'ten_min_bin' DataFrame\n",
    "    ten_min_bin = pd.DataFrame()\n",
    "    \n",
    "    # Calculate the number of events, mean_freq, and CV_freq for each 600,000 bin\n",
    "    #find max number for rows to determine the range\n",
    "    max_time = int(df['Time of Peak (ms)'].max())\n",
    "    #Add the max needed number to the range to ensure we don't cut the bin and get an error\n",
    "    bins = range(0, max_time + 600000, 600000)\n",
    "    #Setting the conditions for the for loop\n",
    "    for bin_start, bin_end in zip(bins[:-1], bins[1:]):\n",
    "        #defining the mask, which are the boundaries for the bins to be looped over and updated for each calcualtd row\n",
    "        mask = (df['Time of Peak (ms)'] >= bin_start) & (df['Time of Peak (ms)'] < bin_end)\n",
    "        #Find the sum of rows in the mask\n",
    "        n_of_events = mask.sum()\n",
    "        #Adding mean frequency\n",
    "        mean_freq = df[mask]['Inst. Freq. (Hz)'].mean()\n",
    "        #Applying the CV formula within the bounderies for the mask\n",
    "        cv_freq = (df[mask]['Inst. Freq. (Hz)'].std() / df[mask]['Inst. Freq. (Hz)'].mean())\n",
    "        #Making everything into a dataframe\n",
    "        ten_min_bin = ten_min_bin.append({'n_of_events': n_of_events, 'mean_freq': mean_freq, 'CV_freq': cv_freq}, ignore_index=True)\n",
    "\n",
    "   # Handle the last ten-minute bin (if it doesn't contain a full 600,000 milliseconds)\n",
    "    #Find the last bin\n",
    "    last_bin_start = bins[-1]\n",
    "    # Extend it to be over 10 min to ensure it becomes included\n",
    "    last_bin_end = max_time + 600000\n",
    "    #Add the same components to the dataframe IF the last bin doesn't already exist (this is only to combat cases where the last bin isn't added as there is too little information)\n",
    "    if last_bin_end <= max_time:\n",
    "        mask = (df['Time of Peak (ms)'] >= last_bin_start) & (df['Time of Peak (ms)'] < last_bin_end)\n",
    "        n_of_events = mask.sum()\n",
    "        mean_freq = df[mask]['Inst. Freq. (Hz)'].mean()\n",
    "        cv_freq = (df[mask]['Inst. Freq. (Hz)'].std() / df[mask]['Inst. Freq. (Hz)'].mean())\n",
    "        ten_min_bin = ten_min_bin.append({'n_of_events': n_of_events, 'mean_freq': mean_freq, 'CV_freq': cv_freq}, ignore_index=True)\n",
    "    \n",
    "### One min bin section ###\n",
    "\n",
    "    # Create 'one_min_bins' DataFrame\n",
    "    one_min_bins = pd.DataFrame()\n",
    "\n",
    "    # Calculate for 1-minute bins\n",
    "    bins = range(0, max_time + 60000, 60000)\n",
    "    for bin_start, bin_end in zip(bins[:-1], bins[1:]):\n",
    "        mask = (df['Time of Peak (ms)'] >= bin_start) & (df['Time of Peak (ms)'] < bin_end)\n",
    "        n_of_events = mask.sum()\n",
    "        mean_freq = df[mask]['Inst. Freq. (Hz)'].mean()\n",
    "        cv_freq = (df[mask]['Inst. Freq. (Hz)'].std() / df[mask]['Inst. Freq. (Hz)'].mean())\n",
    "        one_min_bins = one_min_bins.append({'n_of_events': n_of_events, 'mean_freq': mean_freq, 'CV_freq': cv_freq}, ignore_index=True)\n",
    "\n",
    "    # Handle the last one-minute bin (if it doesn't contain a full 60,000 milliseconds)\n",
    "    last_bin_start = bins[-1]\n",
    "    last_bin_end = max_time + 60000  # Extend it to the maximum time in the data\n",
    "    if last_bin_end <= max_time:\n",
    "        mask = (df['Time of Peak (ms)'] >= last_bin_start) & (df['Time of Peak (ms)'] < last_bin_end)\n",
    "        n_of_events = mask.sum()\n",
    "        mean_freq = df[mask]['Inst. Freq. (Hz)'].mean()\n",
    "        cv_freq = (df[mask]['Inst. Freq. (Hz)'].std() / df[mask]['Inst. Freq. (Hz)'].mean())\n",
    "        one_min_bins = one_min_bins.append({'n_of_events': n_of_events, 'mean_freq': mean_freq, 'CV_freq': cv_freq}, ignore_index=True)\n",
    "\n",
    "### Saving section ####\n",
    "\n",
    "    # Get the base file name (without extension)\n",
    "    base_file_name = os.path.splitext(os.path.basename(file_path))[0]\n",
    "\n",
    "   # Create '10_min_bins' and '1_min_bins' subfolders in 'csv_files'\n",
    "    ten_min_bins_dir = os.path.join(csv_files_dir, '10_min_bins')\n",
    "    one_min_bins_dir = os.path.join(csv_files_dir, '1_min_bins')\n",
    "    \n",
    "    if not os.path.exists(ten_min_bins_dir):\n",
    "        os.mkdir(ten_min_bins_dir)\n",
    "    \n",
    "    if not os.path.exists(one_min_bins_dir):\n",
    "        os.mkdir(one_min_bins_dir)\n",
    "\n",
    "    # Save the 10 min bin DataFrame as a .csv in '10_min_bins' subfolder\n",
    "    save_path_10_min_bins = os.path.join(ten_min_bins_dir, f'{base_file_name}_10_min_bins.csv')\n",
    "    ten_min_bin.to_csv(save_path_10_min_bins)\n",
    "    print(f'{base_file_name}_10_min_bins has been saved here: {save_path_10_min_bins}')\n",
    "\n",
    "    # Save the 1 min bin DataFrame as a .csv in '1_min_bins' subfolder\n",
    "    save_path_1_min_bins = os.path.join(one_min_bins_dir, f'{base_file_name}_1_min_bins.csv')\n",
    "    one_min_bins.to_csv(save_path_1_min_bins)\n",
    "    print(f'{base_file_name}_1_min_bins has been saved here: {save_path_1_min_bins}')"
   ]
  },
  {
   "cell_type": "code",
   "execution_count": null,
   "id": "2d0667c8",
   "metadata": {},
   "outputs": [],
   "source": [
    "#m46n4_0-20min.xlsx and m53n1_0-37min.xlsx skipped due to the 'Inst. Freq. (Hz)' column not existing"
   ]
  }
 ],
 "metadata": {
  "kernelspec": {
   "display_name": "Python 3 (ipykernel)",
   "language": "python",
   "name": "python3"
  },
  "language_info": {
   "codemirror_mode": {
    "name": "ipython",
    "version": 3
   },
   "file_extension": ".py",
   "mimetype": "text/x-python",
   "name": "python",
   "nbconvert_exporter": "python",
   "pygments_lexer": "ipython3",
   "version": "3.11.5"
  }
 },
 "nbformat": 4,
 "nbformat_minor": 5
}
