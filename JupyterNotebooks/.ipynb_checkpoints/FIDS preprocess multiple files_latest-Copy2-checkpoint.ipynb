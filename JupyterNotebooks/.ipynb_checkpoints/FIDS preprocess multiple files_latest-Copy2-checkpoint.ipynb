{
 "cells": [
  {
   "cell_type": "code",
   "execution_count": null,
   "id": "5916c3b2",
   "metadata": {},
   "outputs": [],
   "source": []
  },
  {
   "cell_type": "code",
   "execution_count": 9,
   "id": "5ac6a1f4",
   "metadata": {},
   "outputs": [
    {
     "name": "stdout",
     "output_type": "stream",
     "text": [
      "['C:\\\\Users\\\\fids\\\\OneDrive - H. Lundbeck A S\\\\Documents\\\\GitHub\\\\FIDS-analysis\\\\Test folder\\\\m74n2.xlsx', 'C:\\\\Users\\\\fids\\\\OneDrive - H. Lundbeck A S\\\\Documents\\\\GitHub\\\\FIDS-analysis\\\\Test folder\\\\m74n3.xlsx', 'C:\\\\Users\\\\fids\\\\OneDrive - H. Lundbeck A S\\\\Documents\\\\GitHub\\\\FIDS-analysis\\\\Test folder\\\\~$m74n1.xlsx']\n"
     ]
    }
   ],
   "source": [
    "import os\n",
    "import pandas as pd\n",
    "import glob\n",
    "import warnings\n",
    "\n",
    "# Suppress warnings that are not important\n",
    "warnings.filterwarnings(\"ignore\")\n",
    "\n",
    "# Define the folder where your data files are located\n",
    "folder_path = r'C:\\Users\\fids\\OneDrive - H. Lundbeck A S\\Documents\\GitHub\\FIDS-analysis\\Test folder'\n",
    "\n",
    "# Create 'csv_files' directory for where we want to save our files if it doesn't exist\n",
    "csv_files_dir = os.path.join(folder_path, 'csv_files')\n",
    "if not os.path.exists(csv_files_dir):\n",
    "    os.mkdir(csv_files_dir)\n",
    "\n",
    "# Get a list of all .xlsx files in the folder\n",
    "xlsx_files = glob.glob(os.path.join(folder_path, '*.xlsx'))\n",
    "\n",
    "#Print the files for analysis\n",
    "print(xlsx_files)"
   ]
  },
  {
   "cell_type": "code",
   "execution_count": 15,
   "id": "d92d8bdb",
   "metadata": {},
   "outputs": [
    {
     "ename": "AttributeError",
     "evalue": "'DataFrame' object has no attribute 'append'",
     "output_type": "error",
     "traceback": [
      "\u001b[1;31m---------------------------------------------------------------------------\u001b[0m",
      "\u001b[1;31mAttributeError\u001b[0m                            Traceback (most recent call last)",
      "\u001b[1;32m~\\AppData\\Local\\Temp\\ipykernel_15592\\826613815.py\u001b[0m in \u001b[0;36m?\u001b[1;34m()\u001b[0m\n\u001b[0;32m     26\u001b[0m         \u001b[0mmean_freq\u001b[0m \u001b[1;33m=\u001b[0m \u001b[0mdf\u001b[0m\u001b[1;33m[\u001b[0m\u001b[0mmask\u001b[0m\u001b[1;33m]\u001b[0m\u001b[1;33m[\u001b[0m\u001b[1;34m'Peak-to-Peak Frequency (Hz)'\u001b[0m\u001b[1;33m]\u001b[0m\u001b[1;33m.\u001b[0m\u001b[0mmean\u001b[0m\u001b[1;33m(\u001b[0m\u001b[1;33m)\u001b[0m\u001b[1;33m\u001b[0m\u001b[1;33m\u001b[0m\u001b[0m\n\u001b[0;32m     27\u001b[0m         \u001b[1;31m#Applying the CV formula within the bounderies for the mask\u001b[0m\u001b[1;33m\u001b[0m\u001b[1;33m\u001b[0m\u001b[0m\n\u001b[0;32m     28\u001b[0m         \u001b[0mcv_freq\u001b[0m \u001b[1;33m=\u001b[0m \u001b[1;33m(\u001b[0m\u001b[0mdf\u001b[0m\u001b[1;33m[\u001b[0m\u001b[0mmask\u001b[0m\u001b[1;33m]\u001b[0m\u001b[1;33m[\u001b[0m\u001b[1;34m'Peak-to-Peak Frequency (Hz)'\u001b[0m\u001b[1;33m]\u001b[0m\u001b[1;33m.\u001b[0m\u001b[0mstd\u001b[0m\u001b[1;33m(\u001b[0m\u001b[1;33m)\u001b[0m \u001b[1;33m/\u001b[0m \u001b[0mdf\u001b[0m\u001b[1;33m[\u001b[0m\u001b[0mmask\u001b[0m\u001b[1;33m]\u001b[0m\u001b[1;33m[\u001b[0m\u001b[1;34m'Peak-to-Peak Frequency (Hz)'\u001b[0m\u001b[1;33m]\u001b[0m\u001b[1;33m.\u001b[0m\u001b[0mmean\u001b[0m\u001b[1;33m(\u001b[0m\u001b[1;33m)\u001b[0m\u001b[1;33m)\u001b[0m \u001b[1;33m*\u001b[0m \u001b[1;36m100\u001b[0m\u001b[1;33m\u001b[0m\u001b[1;33m\u001b[0m\u001b[0m\n\u001b[0;32m     29\u001b[0m         \u001b[1;31m#Making everything into a dataframe\u001b[0m\u001b[1;33m\u001b[0m\u001b[1;33m\u001b[0m\u001b[0m\n\u001b[1;32m---> 30\u001b[1;33m         \u001b[0mten_min_bin\u001b[0m \u001b[1;33m=\u001b[0m \u001b[0mten_min_bin\u001b[0m\u001b[1;33m.\u001b[0m\u001b[0mappend\u001b[0m\u001b[1;33m(\u001b[0m\u001b[1;33m{\u001b[0m\u001b[1;34m'n_of_events'\u001b[0m\u001b[1;33m:\u001b[0m \u001b[0mn_of_events\u001b[0m\u001b[1;33m,\u001b[0m \u001b[1;34m'mean_freq'\u001b[0m\u001b[1;33m:\u001b[0m \u001b[0mmean_freq\u001b[0m\u001b[1;33m,\u001b[0m \u001b[1;34m'CV_freq'\u001b[0m\u001b[1;33m:\u001b[0m \u001b[0mcv_freq\u001b[0m\u001b[1;33m}\u001b[0m\u001b[1;33m,\u001b[0m \u001b[0mignore_index\u001b[0m\u001b[1;33m=\u001b[0m\u001b[1;32mTrue\u001b[0m\u001b[1;33m)\u001b[0m\u001b[1;33m\u001b[0m\u001b[1;33m\u001b[0m\u001b[0m\n\u001b[0m\u001b[0;32m     31\u001b[0m \u001b[1;33m\u001b[0m\u001b[0m\n\u001b[0;32m     32\u001b[0m    \u001b[1;31m# Handle the last ten-minute bin (if it doesn't contain a full 600,000 milliseconds)\u001b[0m\u001b[1;33m\u001b[0m\u001b[1;33m\u001b[0m\u001b[0m\n\u001b[0;32m     33\u001b[0m     \u001b[1;31m#Find the last bin\u001b[0m\u001b[1;33m\u001b[0m\u001b[1;33m\u001b[0m\u001b[0m\n",
      "\u001b[1;32m~\\AppData\\Local\\anaconda3\\Lib\\site-packages\\pandas\\core\\generic.py\u001b[0m in \u001b[0;36m?\u001b[1;34m(self, name)\u001b[0m\n\u001b[0;32m   5985\u001b[0m             \u001b[1;32mand\u001b[0m \u001b[0mname\u001b[0m \u001b[1;32mnot\u001b[0m \u001b[1;32min\u001b[0m \u001b[0mself\u001b[0m\u001b[1;33m.\u001b[0m\u001b[0m_accessors\u001b[0m\u001b[1;33m\u001b[0m\u001b[1;33m\u001b[0m\u001b[0m\n\u001b[0;32m   5986\u001b[0m             \u001b[1;32mand\u001b[0m \u001b[0mself\u001b[0m\u001b[1;33m.\u001b[0m\u001b[0m_info_axis\u001b[0m\u001b[1;33m.\u001b[0m\u001b[0m_can_hold_identifiers_and_holds_name\u001b[0m\u001b[1;33m(\u001b[0m\u001b[0mname\u001b[0m\u001b[1;33m)\u001b[0m\u001b[1;33m\u001b[0m\u001b[1;33m\u001b[0m\u001b[0m\n\u001b[0;32m   5987\u001b[0m         ):\n\u001b[0;32m   5988\u001b[0m             \u001b[1;32mreturn\u001b[0m \u001b[0mself\u001b[0m\u001b[1;33m[\u001b[0m\u001b[0mname\u001b[0m\u001b[1;33m]\u001b[0m\u001b[1;33m\u001b[0m\u001b[1;33m\u001b[0m\u001b[0m\n\u001b[1;32m-> 5989\u001b[1;33m         \u001b[1;32mreturn\u001b[0m \u001b[0mobject\u001b[0m\u001b[1;33m.\u001b[0m\u001b[0m__getattribute__\u001b[0m\u001b[1;33m(\u001b[0m\u001b[0mself\u001b[0m\u001b[1;33m,\u001b[0m \u001b[0mname\u001b[0m\u001b[1;33m)\u001b[0m\u001b[1;33m\u001b[0m\u001b[1;33m\u001b[0m\u001b[0m\n\u001b[0m",
      "\u001b[1;31mAttributeError\u001b[0m: 'DataFrame' object has no attribute 'append'"
     ]
    }
   ],
   "source": [
    "# Loop over each .xlsx file in the folder\n",
    "for file_path in xlsx_files:\n",
    "    # Load the data\n",
    "    df = pd.read_excel(file_path)\n",
    "    \n",
    "    # Check if the 'Inst. Freq. (Hz)' column exists in the DataFrame\n",
    "    if 'Peak-to-Peak Frequency (Hz)' not in df.columns:\n",
    "        print(f\"Skipping {file_path} as it doesn't contain 'Peak-to-Peak Frequency (Hz)' column.\")\n",
    "        continue  # Skip this file and move to the next one\n",
    "        \n",
    "    # Create 'ten_min_bin' DataFrame\n",
    "    ten_min_bin = pd.DataFrame() \n",
    "    \n",
    "    # Calculate the number of events, mean_freq, and CV_freq for each 600,000 bin\n",
    "    #find max number for rows to determine the range\n",
    "    max_time = int(df['Time of Peak (ms)'].max())\n",
    "    #Add the max needed number to the range to ensure we don't cut the bin and get an error\n",
    "    bins = range(0, max_time + 600000, 600000)\n",
    "    #Setting the conditions for the for loop\n",
    "    for bin_start, bin_end in zip(bins[:-1], bins[1:]):\n",
    "        #defining the mask, which are the boundaries for the bins to be looped over and updated for each calcualtd row\n",
    "        mask = (df['Time of Peak (ms)'] >= bin_start) & (df['Time of Peak (ms)'] < bin_end)\n",
    "        #Find the sum of rows in the mask\n",
    "        n_of_events = mask.sum()\n",
    "        #Adding mean frequency\n",
    "        mean_freq = df[mask]['Peak-to-Peak Frequency (Hz)'].mean()\n",
    "        #Applying the CV formula within the bounderies for the mask\n",
    "        cv_freq = (df[mask]['Peak-to-Peak Frequency (Hz)'].std() / df[mask]['Peak-to-Peak Frequency (Hz)'].mean()) * 100\n",
    "        #Making everything into a dataframe\n",
    "        ten_min_bin = ten_min_bin.append({'n_of_events': n_of_events, 'mean_freq': mean_freq, 'CV_freq': cv_freq}, ignore_index=True)\n",
    "\n",
    "   # Handle the last ten-minute bin (if it doesn't contain a full 600,000 milliseconds)\n",
    "    #Find the last bin\n",
    "    last_bin_start = bins[-1]\n",
    "    # Extend it to be over 10 min to ensure it becomes included\n",
    "    last_bin_end = max_time + 600000\n",
    "    #Add the same components to the dataframe IF the last bin doesn't already exist (this is only to combat cases where the last bin isn't added as there is too little information)\n",
    "    if last_bin_end <= max_time:\n",
    "        mask = (df['Time of Peak (ms)'] >= last_bin_start) & (df['Time of Peak (ms)'] < last_bin_end)\n",
    "        n_of_events = mask.sum()\n",
    "        mean_freq = df[mask]['Peak-to-Peak Frequency (Hz)'].mean()\n",
    "        cv_freq = (df[mask]['Peak-to-Peak Frequency (Hz)'].std() / df[mask]['Peak-to-Peak Frequency (Hz)'].mean()) * 100\n",
    "        ten_min_bin = ten_min_bin.append({'n_of_events': n_of_events, 'mean_freq': mean_freq, 'CV_freq': cv_freq}, ignore_index=True)\n",
    "\n",
    "        \n",
    "### One min bin section ###\n",
    "\n",
    "    # Create 'one_min_bins' DataFrame\n",
    "    one_min_bins = pd.DataFrame()\n",
    "\n",
    "    # Calculate for 1-minute bins\n",
    "    bins = range(0, max_time + 60000, 60000)\n",
    "    for bin_start, bin_end in zip(bins[:-1], bins[1:]):\n",
    "        mask = (df['Time of Peak (ms)'] >= bin_start) & (df['Time of Peak (ms)'] < bin_end)\n",
    "        n_of_events = mask.sum()\n",
    "        mean_freq = df[mask]['Peak-to-Peak Frequency (Hz)'].mean()\n",
    "        cv_freq = (df[mask]['Peak-to-Peak Frequency (Hz)'].std() / df[mask]['Peak-to-Peak Frequency (Hz)'].mean()) * 10\n",
    "        one_min_bins = one_min_bins.append({'n_of_events': n_of_events, 'mean_freq': mean_freq, 'CV_freq': cv_freq}, ignore_index=True)\n",
    "\n",
    "    # Handle the last one-minute bin (if it doesn't contain a full 60,000 milliseconds)\n",
    "    last_bin_start = bins[-1]\n",
    "    last_bin_end = max_time + 60000  # Extend it to the maximum time in the data\n",
    "    if last_bin_end <= max_time:\n",
    "        mask = (df['Time of Peak (ms)'] >= last_bin_start) & (df['Time of Peak (ms)'] < last_bin_end)\n",
    "        n_of_events = mask.sum()\n",
    "        mean_freq = df[mask]['Peak-to-Peak Frequency (Hz)'].mean()\n",
    "        cv_freq = (df[mask]['Peak-to-Peak Frequency (Hz)'].std() / df[mask]['Peak-to-Peak Frequency (Hz)'].mean()) * 10\n",
    "        one_min_bins = one_min_bins.append({'n_of_events': n_of_events, 'mean_freq': mean_freq, 'CV_freq': cv_freq}, ignore_index=True)\n",
    "\n",
    "### Saving section ####\n",
    "\n",
    "    # Get the base file name (without extension)\n",
    "    base_file_name = os.path.splitext(os.path.basename(file_path))[0]\n",
    "\n",
    "   # Create '10_min_bins' and '1_min_bins' subfolders in 'csv_files'\n",
    "    ten_min_bins_dir = os.path.join(csv_files_dir, '10_min_bins')\n",
    "    one_min_bins_dir = os.path.join(csv_files_dir, '1_min_bins')\n",
    "    \n",
    "    if not os.path.exists(ten_min_bins_dir):\n",
    "        os.mkdir(ten_min_bins_dir)\n",
    "    \n",
    "    if not os.path.exists(one_min_bins_dir):\n",
    "        os.mkdir(one_min_bins_dir)\n",
    "\n",
    "    # Save the 10 min bin DataFrame as a .csv in '10_min_bins' subfolder\n",
    "    save_path_10_min_bins = os.path.join(ten_min_bins_dir, f'{base_file_name}_10_min_bins.csv')\n",
    "    ten_min_bin.to_csv(save_path_10_min_bins)\n",
    "    print(f'{base_file_name}_10_min_bins has been saved here: {save_path_10_min_bins}')\n",
    "\n",
    "    # Save the 1 min bin DataFrame as a .csv in '1_min_bins' subfolder\n",
    "    save_path_1_min_bins = os.path.join(one_min_bins_dir, f'{base_file_name}_1_min_bins.csv')\n",
    "    one_min_bins.to_csv(save_path_1_min_bins)\n",
    "    print(f'{base_file_name}_1_min_bins has been saved here: {save_path_1_min_bins}')"
   ]
  },
  {
   "cell_type": "code",
   "execution_count": null,
   "id": "2d0667c8",
   "metadata": {},
   "outputs": [],
   "source": [
    "#m46n4_0-20min.xlsx and m53n1_0-37min.xlsx skipped due to the 'Inst. Freq. (Hz)' column not existing"
   ]
  },
  {
   "cell_type": "code",
   "execution_count": 20,
   "id": "641fcd35",
   "metadata": {},
   "outputs": [
    {
     "name": "stdout",
     "output_type": "stream",
     "text": [
      "2.0.3\n"
     ]
    }
   ],
   "source": [
    "print(pd.__version__)"
   ]
  }
 ],
 "metadata": {
  "kernelspec": {
   "display_name": "Python 3 (ipykernel)",
   "language": "python",
   "name": "python3"
  },
  "language_info": {
   "codemirror_mode": {
    "name": "ipython",
    "version": 3
   },
   "file_extension": ".py",
   "mimetype": "text/x-python",
   "name": "python",
   "nbconvert_exporter": "python",
   "pygments_lexer": "ipython3",
   "version": "3.11.5"
  }
 },
 "nbformat": 4,
 "nbformat_minor": 5
}
